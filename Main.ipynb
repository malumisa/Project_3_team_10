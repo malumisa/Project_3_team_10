{
 "cells": [
  {
   "cell_type": "code",
   "execution_count": 1,
   "id": "3f62bdf7",
   "metadata": {},
   "outputs": [],
   "source": [
    "import pandas as pd\n",
    "import matplotlib.animation as animation\n",
    "import numpy as np\n",
    "import matplotlib.pyplot as plt\n",
    "import scipy.stats as stats\n",
    "import warnings\n",
    "import requests\n",
    "warnings.filterwarnings('ignore')\n",
    "\n",
    "# df_air = pd.read_csv(\"Resources/airlines_delay.csv\")\n",
    "# df_ear=pd.read_csv(\"Resources/earthquakes.csv\")\n"
   ]
  },
  {
   "cell_type": "code",
   "execution_count": 2,
   "id": "8934beba",
   "metadata": {},
   "outputs": [],
   "source": [
    "base_url='https://data.cityofnewyork.us/resource/nre2-6m2s.json'"
   ]
  },
  {
   "cell_type": "code",
   "execution_count": 3,
   "id": "6a24f7c1",
   "metadata": {},
   "outputs": [],
   "source": [
    "data=requests.get(base_url).json()"
   ]
  },
  {
   "cell_type": "code",
   "execution_count": 4,
   "id": "fd70c1eb",
   "metadata": {},
   "outputs": [],
   "source": [
    "# data"
   ]
  },
  {
   "cell_type": "code",
   "execution_count": 37,
   "id": "aea7a86c",
   "metadata": {},
   "outputs": [],
   "source": [
    "# row=data[i]"
   ]
  },
  {
   "cell_type": "code",
   "execution_count": 5,
   "id": "d29ed210",
   "metadata": {},
   "outputs": [],
   "source": [
    "base_url='https://api.aviationstack.com'"
   ]
  },
  {
   "cell_type": "code",
   "execution_count": 6,
   "id": "d8d23eaf",
   "metadata": {},
   "outputs": [
    {
     "data": {
      "text/plain": [
       "<Response [200]>"
      ]
     },
     "execution_count": 6,
     "metadata": {},
     "output_type": "execute_result"
    }
   ],
   "source": [
    "data=requests.get(base_url)\n",
    "data"
   ]
  },
  {
   "cell_type": "code",
   "execution_count": 7,
   "id": "e09834c5",
   "metadata": {},
   "outputs": [
    {
     "data": {
      "text/plain": [
       "{'error': {'code': 'https_access_restricted',\n",
       "  'message': 'Access Restricted - Your current Subscription Plan does not support HTTPS Encryption.'}}"
      ]
     },
     "execution_count": 7,
     "metadata": {},
     "output_type": "execute_result"
    }
   ],
   "source": [
    "import requests\n",
    "\n",
    "params = {\n",
    "  'access_key': '1db5fab1b3576c52e4b8a86d639e3e08'\n",
    "}\n",
    "\n",
    "api_result = requests.get('https://api.aviationstack.com/v1/flights', params)\n",
    "\n",
    "api_response = api_result.json()\n",
    "\n",
    "# for flight in api_response['results']:\n",
    "#     if (flight['live']['is_ground'] is False):\n",
    "#         print(u'%s flight %s from %s (%s) to %s (%s) is in the air.' % (\n",
    "#             flight['airline']['name'],\n",
    "#             flight['flight']['iata'],\n",
    "#             flight['departure']['airport'],\n",
    "#             flight['departure']['iata'],\n",
    "#             flight['arrival']['airport'],\n",
    "#             flight['arrival']['iata']))\n",
    "api_response"
   ]
  },
  {
   "cell_type": "code",
   "execution_count": 69,
   "id": "79491794",
   "metadata": {},
   "outputs": [],
   "source": [
    "base_url='http://api.weatherapi.com/v1'"
   ]
  },
  {
   "cell_type": "code",
   "execution_count": 70,
   "id": "16d4e28c",
   "metadata": {},
   "outputs": [],
   "source": [
    "base_url='http://api.weatherapi.com/v1/current.json?key=29ad3cbdd70c4198ac704843231502 &q=Toronto&'"
   ]
  },
  {
   "cell_type": "code",
   "execution_count": 71,
   "id": "4c1ff3e8",
   "metadata": {},
   "outputs": [],
   "source": [
    "data=requests.get(base_url).json()"
   ]
  },
  {
   "cell_type": "code",
   "execution_count": 72,
   "id": "40fcb963",
   "metadata": {},
   "outputs": [
    {
     "data": {
      "text/plain": [
       "{'location': {'name': 'Toronto',\n",
       "  'region': 'Ontario',\n",
       "  'country': 'Canada',\n",
       "  'lat': 43.67,\n",
       "  'lon': -79.42,\n",
       "  'tz_id': 'America/Toronto',\n",
       "  'localtime_epoch': 1676426882,\n",
       "  'localtime': '2023-02-14 21:08'},\n",
       " 'current': {'last_updated_epoch': 1676426400,\n",
       "  'last_updated': '2023-02-14 21:00',\n",
       "  'temp_c': 2.0,\n",
       "  'temp_f': 35.6,\n",
       "  'is_day': 0,\n",
       "  'condition': {'text': 'Clear',\n",
       "   'icon': '//cdn.weatherapi.com/weather/64x64/night/113.png',\n",
       "   'code': 1000},\n",
       "  'wind_mph': 6.9,\n",
       "  'wind_kph': 11.2,\n",
       "  'wind_degree': 100,\n",
       "  'wind_dir': 'E',\n",
       "  'pressure_mb': 1015.0,\n",
       "  'pressure_in': 29.98,\n",
       "  'precip_mm': 0.0,\n",
       "  'precip_in': 0.0,\n",
       "  'humidity': 87,\n",
       "  'cloud': 0,\n",
       "  'feelslike_c': -1.4,\n",
       "  'feelslike_f': 29.6,\n",
       "  'vis_km': 14.0,\n",
       "  'vis_miles': 8.0,\n",
       "  'uv': 1.0,\n",
       "  'gust_mph': 14.1,\n",
       "  'gust_kph': 22.7}}"
      ]
     },
     "execution_count": 72,
     "metadata": {},
     "output_type": "execute_result"
    }
   ],
   "source": [
    "url:'http://api.weatherapi.com/v1/current.json?key=29ad3cbdd70c4198ac704843231502 &q=bulk.json'"
   ]
  },
  {
   "cell_type": "code",
   "execution_count": 48,
   "id": "b657eb14",
   "metadata": {},
   "outputs": [],
   "source": [
    "# base_url='http://api.weatherapi.com/v1/current.json?key=29ad3cbdd70c4198ac704843231502 &q=alerts=yes'"
   ]
  },
  {
   "cell_type": "code",
   "execution_count": 49,
   "id": "8e4f151a",
   "metadata": {},
   "outputs": [],
   "source": [
    "data=requests.get(base_url).json()\n",
    "data"
   ]
  },
  {
   "cell_type": "code",
   "execution_count": 50,
   "id": "c54e020b",
   "metadata": {},
   "outputs": [
    {
     "data": {
      "text/plain": [
       "{'location': {'name': 'Ust-Yes',\n",
       "  'region': 'Khakass',\n",
       "  'country': 'Russia',\n",
       "  'lat': 52.97,\n",
       "  'lon': 90.25,\n",
       "  'tz_id': 'Asia/Krasnoyarsk',\n",
       "  'localtime_epoch': 1676425945,\n",
       "  'localtime': '2023-02-15 8:52'},\n",
       " 'current': {'last_updated_epoch': 1676425500,\n",
       "  'last_updated': '2023-02-15 08:45',\n",
       "  'temp_c': -16.0,\n",
       "  'temp_f': 3.2,\n",
       "  'is_day': 1,\n",
       "  'condition': {'text': 'Light snow',\n",
       "   'icon': '//cdn.weatherapi.com/weather/64x64/day/326.png',\n",
       "   'code': 1213},\n",
       "  'wind_mph': 2.2,\n",
       "  'wind_kph': 3.6,\n",
       "  'wind_degree': 55,\n",
       "  'wind_dir': 'NE',\n",
       "  'pressure_mb': 1038.0,\n",
       "  'pressure_in': 30.66,\n",
       "  'precip_mm': 0.0,\n",
       "  'precip_in': 0.0,\n",
       "  'humidity': 90,\n",
       "  'cloud': 65,\n",
       "  'feelslike_c': -16.0,\n",
       "  'feelslike_f': 3.2,\n",
       "  'vis_km': 10.0,\n",
       "  'vis_miles': 6.0,\n",
       "  'uv': 1.0,\n",
       "  'gust_mph': 2.5,\n",
       "  'gust_kph': 4.0}}"
      ]
     },
     "execution_count": 50,
     "metadata": {},
     "output_type": "execute_result"
    }
   ],
   "source": []
  },
  {
   "cell_type": "code",
   "execution_count": null,
   "id": "2a602b0d",
   "metadata": {},
   "outputs": [],
   "source": [
    "# # \"alerts\":{\n",
    "# #     \"alert\":[\n",
    "# #         {\n",
    "# #         \"headline\":\"Flood Warning issued January 05 at 9:47PM EST until January 07 at 6:15AM EST by NWS\",\n",
    "# #         \"msgtype\":\"Alert\",\n",
    "# #         \"severity\":\"Moderate\",\n",
    "# #         \"urgency\":\"Expected\",\n",
    "# #         \"areas\":\"Calhoun; Lexington; Richland\",\n",
    "# #         \"category\":\"Met\",\n",
    "# #         \"certainty\":\"Likely\",\n",
    "# #         \"event\":\"Flood Warning\",\n",
    "# #         \"note\":\"Alert for Calhoun; Lexington; Richland (South Carolina) Issued by the National Weather Service\",\n",
    "# #         \"effective\":\"2021-01-05T21:47:00-05:00\",\n",
    "# #         \"expires\":\"2021-01-07T06:15:00-05:00\",\n",
    "# #         \"desc\":\"...The Flood Warning continues for the following rivers in South\\nCarolina...\\nCongaree River At Carolina Eastman affecting Richland, Calhoun\\nand Lexington Counties.\\nCongaree River At Congaree National Park-Gadsden affecting\\nCalhoun and Richland Counties.\\nNorth Fork Edisto River At Orangeburg affecting Orangeburg County.\\n...The Flood Warning is now in effect until Thursday morning...\\nThe Flood Warning continues for\\nthe Congaree River At Carolina Eastman.\\n* Until Thursday morning.\\n* At 9:28 PM EST Tuesday the stage was 115.6 feet.\\n* Flood stage is 115.0 feet.\\n* Minor flooding is occurring and minor flooding is forecast.\\n* Recent Activity...The maximum river stage in the 24 hours ending\\nat 9:28 PM EST Tuesday was 118.2 feet.\\n* Forecast...The river will rise to 115.7 feet just after midnight\\ntonight. It will then fall below flood stage tomorrow morning to\\n114.2 feet and begin rising again tomorrow evening. It will rise\\nto 114.3 feet early Thursday morning. It will then fall again and\\nremain below flood stage.\\n* Impact...At 115.0 feet, Flooding occurs in low lying areas of the\\nCarolina Eastman Facility and at the Congaree National Park.\\n* Flood History...This crest compares to a previous crest of 116.3\\nfeet on 12/03/2020.\\n&&\",\n",
    "# #         \"instruction\":\"A Flood Warning means that flooding is imminent or occurring. All\\ninterested parties should take necessary precautions immediately.\\nMotorists should not attempt to drive around barricades or drive\\ncars through flooded areas.\\nCaution is urged when walking near riverbanks.\\nAdditional information is available at www.weather.gov.\\nThe next statement will be issued Wednesday morning at 1000 AM EST.\"\n",
    "# #         },\n",
    "#         {\n",
    "#         \"headline\":\"Flood Warning issued January 05 at 9:47PM EST until January 09 at 4:00AM EST by NWS\",\n",
    "#         \"msgtype\":\"Alert\",\n",
    "#         \"severity\":\"Moderate\",\n",
    "#         \"urgency\":\"Expected\",\n",
    "#         \"areas\":\"Calhoun; Richland\",\n",
    "#         \"category\":\"Met\",\n",
    "#         \"certainty\":\"Likely\",\n",
    "#         \"event\":\"Flood Warning\",\n",
    "#         \"note\":\"Alert for Calhoun; Richland (South Carolina) Issued by the National Weather Service\",\n",
    "#         \"effective\":\"2021-01-05T21:47:00-05:00\",\n",
    "#         \"expires\":\"2021-01-09T04:00:00-05:00\",\n",
    "#         \"desc\":\"...The Flood Warning continues for the following rivers in South\\nCarolina...\\nCongaree River At Carolina Eastman affecting Richland, Calhoun\\nand Lexington Counties.\\nCongaree River At Congaree National Park-Gadsden affecting\\nCalhoun and Richland Counties.\\nNorth Fork Edisto River At Orangeburg affecting Orangeburg County.\\n...The Flood Warning is now in effect until early Saturday morning...\\nThe Flood Warning continues for\\nthe Congaree River At Congaree National Park-Gadsden.\\n* Until late Friday night.\\n* At 9:00 PM EST Tuesday the stage was 16.5 feet.\\n* Flood stage is 15.0 feet.\\n* Minor flooding is occurring and minor flooding is forecast.\\n* Recent Activity...The maximum river stage in the 24 hours ending\\nat 9:00 PM EST Tuesday was 17.2 feet.\\n* Forecast...The river is expected to fall below flood stage early\\nFriday morning and continue falling to 12.4 feet Sunday evening.\\n* Impact...At 15.0 feet, Flooding begins in the Congaree National\\nPark. This will begin to produce flooding of portions of the lower\\nboardwalk.\\n* Impact...At 17.0 feet, The access road to the Sandy Run\\nsubdivision becomes flooded. The lower boardwalk in the Congaree\\nNational Park becomes flooded by Cedar Creek.\\n* Impact...At 18.0 feet, Several homes in the Sandy Run subdivision\\nalong the river become flooded. At 18 feet the river covers the\\nWeston Lake overlook in the Congaree National Park. Between 18 and\\n18.5 feet the river begins to cover sections of the elevated\\nboardwalk.\\n* Flood History...This crest compares to a previous crest of 16.3\\nfeet on 12/03/2020.\\n&&\",\n",
    "#         \"instruction\":\"A Flood Warning means that flooding is imminent or occurring. All\\ninterested parties should take necessary precautions immediately.\\nMotorists should not attempt to drive around barricades or drive\\ncars through flooded areas.\\nCaution is urged when walking near riverbanks.\\nAdditional information is available at www.weather.gov.\\nThe next statement will be issued Wednesday morning at 1000 AM EST.\"\n",
    "#         }\n",
    "#     ]\n",
    "# }"
   ]
  },
  {
   "cell_type": "code",
   "execution_count": null,
   "id": "400fd2d6",
   "metadata": {},
   "outputs": [],
   "source": []
  },
  {
   "cell_type": "code",
   "execution_count": 54,
   "id": "b22af5b3",
   "metadata": {},
   "outputs": [],
   "source": [
    "# base_url=f'\n",
    "# http://api.weatherapi.com/v1/current.json?key=<YOUR_API_KEY>&q=Toronto'"
   ]
  },
  {
   "cell_type": "code",
   "execution_count": 55,
   "id": "f82c55bd",
   "metadata": {},
   "outputs": [],
   "source": [
    "# data=requests.get(base_url).json()"
   ]
  },
  {
   "cell_type": "code",
   "execution_count": 56,
   "id": "a32e5b2b",
   "metadata": {},
   "outputs": [
    {
     "data": {
      "text/plain": [
       "{'error': {'code': 2008, 'message': 'API key has been disabled.'}}"
      ]
     },
     "execution_count": 56,
     "metadata": {},
     "output_type": "execute_result"
    }
   ],
   "source": [
    "# data"
   ]
  }
 ],
 "metadata": {
  "kernelspec": {
   "display_name": "base",
   "language": "python",
   "name": "python3"
  },
  "language_info": {
   "codemirror_mode": {
    "name": "ipython",
    "version": 3
   },
   "file_extension": ".py",
   "mimetype": "text/x-python",
   "name": "python",
   "nbconvert_exporter": "python",
   "pygments_lexer": "ipython3",
   "version": "3.9.12"
  },
  "vscode": {
   "interpreter": {
    "hash": "88a06096507a1ab5da7e9de1111b0f045bd7e1d373c23a1e2289be5e4097d923"
   }
  }
 },
 "nbformat": 4,
 "nbformat_minor": 5
}
